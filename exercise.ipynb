{
 "cells": [
  {
   "cell_type": "markdown",
   "metadata": {},
   "source": [
    "# Final Exercise"
   ]
  },
  {
   "cell_type": "markdown",
   "metadata": {},
   "source": [
    "The dataset you're given (data.csv) contains information about vehicle colision reports in the Monterrey Metropolitan area.\n",
    "\n",
    "Analyze the data and answer the following questions based on it.\n",
    "\n",
    "Please be sure to reply back to us with your answers and attach the source code you used to answer them (it can be a Jupyter notebook, an Rmd script, an R script, a Python script, an Excel spreadsheet, etc.)"
   ]
  },
  {
   "cell_type": "markdown",
   "metadata": {},
   "source": [
    "# Questions"
   ]
  },
  {
   "cell_type": "markdown",
   "metadata": {},
   "source": [
    "1. Which roads \"appear to be\" the top 10 most dangerous roads of Monterrey Metropolitan area?\n",
    "2. What's the age group with the overall highest number of reported colisions? You can consider any age groupings for the purposes of this question. Explain this in a graphical way.\n",
    "3. If you were to see a collision in the \"Garza Sada\" road, What would be the odds for that person to have any type of positive alcohol ingestion opinion?\n",
    "4. Why do you think we use the phrase \"appear to be\" in question 1? What would you need to be able to speak with more confidence about the answer to that question?\n",
    "5. What modelling project would you push to develop from the conclusions in this dataset?"
   ]
  }
 ],
 "metadata": {
  "kernelspec": {
   "display_name": "Python 3",
   "language": "python",
   "name": "python3"
  },
  "language_info": {
   "codemirror_mode": {
    "name": "ipython",
    "version": 3
   },
   "file_extension": ".py",
   "mimetype": "text/x-python",
   "name": "python",
   "nbconvert_exporter": "python",
   "pygments_lexer": "ipython3",
   "version": "3.6.7"
  }
 },
 "nbformat": 4,
 "nbformat_minor": 2
}
